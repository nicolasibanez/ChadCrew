{
 "cells": [
  {
   "cell_type": "code",
   "execution_count": 13,
   "metadata": {},
   "outputs": [],
   "source": [
    "import numpy as np\n",
    "import math as m\n",
    "import pandas as pd\n",
    "import imageio as iio\n",
    "from tensorflow import keras\n",
    "from tensorflow.keras import  layers\n",
    "import os"
   ]
  },
  {
   "cell_type": "code",
   "execution_count": 16,
   "metadata": {},
   "outputs": [
    {
     "name": "stdout",
     "output_type": "stream",
     "text": [
      "['data/2_1_0_0_1_0_0_0_0.png' 'data/2_1_1_0_0_0_0_0_0.png'\n",
      " 'data/2_0_0_0_0_0_2_0_1.png' 'data/2_0_1_1_1_0_0_0_1.png'\n",
      " 'data/2_0_0_0_1_0_0_0_0.png' 'data/2_2_0_1_0_0_0_1_1.png'\n",
      " 'data/2_1_1_1_0_0_0_0_1.png' 'data/2_0_1_0_0_0_0_0_1.png'\n",
      " 'data/2_1_0_1_0_0_4_1_2.png' 'data/2_0_1_1_0_0_0_0_1.png'\n",
      " 'data/2_2_0_0_0_0_0_0_1.png' 'data/2_2_1_0_1_0_0_0_0.png'\n",
      " 'data/2_1_1_1_1_0_4_0_2.png' 'data/2_0_0_1_0_0_0_0_0.png'\n",
      " 'data/2_2_0_1_1_0_3_0_0.png' 'data/2_1_0_0_0_0_0_0_1.png'\n",
      " 'data/2_0_1_0_1_0_0_0_1.png' 'data/2_2_1_0_0_0_0_1_1.png'\n",
      " 'data/2_0_0_1_1_0_0_0_0.png' 'data/2_2_1_1_0_0_0_0_1.png']\n",
      "['data/2_1_0_1_1_0_0_0_1.png' 'data/2_1_1_0_1_0_2_0_1.png'\n",
      " 'data/2_2_0_0_1_0_0_0_1.png' 'data/2_2_1_1_1_0_0_0_0.png']\n"
     ]
    }
   ],
   "source": [
    "dir = \"data\"\n",
    "\n",
    "data = {\"Pale\":np.array([]),\n",
    "\"Intermediate\":np.array([]),\n",
    "\"Dark\":np.array([])}\n",
    "\n",
    "for file in os.listdir(dir):\n",
    "    if file[0] == \"0\":\n",
    "        data[\"Pale\"] = np.append(data[\"Pale\"], os.path.join(dir, file))\n",
    "    elif file[0] == \"1\":\n",
    "        data[\"Intermediate\"] = np.append(data[\"Intermediate\"], os.path.join(dir, file))\n",
    "    else:\n",
    "        data[\"Dark\"] = np.append(data[\"Dark\"], os.path.join(dir, file))\n",
    "\n",
    "\n",
    "#On va entrainer sur x% des données et tester sur (100-x)% des données\n",
    "x = 80\n",
    "\n",
    "n_p, n_i, n_d = data[\"Pale\"].shape[0], data[\"Intermediate\"].shape[0], data[\"Dark\"].shape[0]\n",
    "\n",
    "train_pale, train_inter, train_dark = data[\"Pale\"][:m.ceil((x/100)*n_p)], data[\"Intermediate\"][:m.ceil((x/100)*n_i)], data[\"Dark\"][:m.ceil((x/100)*n_d)]\n",
    "\n",
    "test_pale, test_inter, test_dark = data[\"Pale\"][m.ceil((x/100)*n_p):], data[\"Intermediate\"][m.ceil((x/100)*n_i):], data[\"Dark\"][m.ceil((x/100)*n_d):]\n",
    "\n",
    "\n",
    "print(train_dark)\n",
    "print(test_dark)\n",
    "\n",
    "\n"
   ]
  },
  {
   "cell_type": "code",
   "execution_count": null,
   "metadata": {},
   "outputs": [],
   "source": []
  }
 ],
 "metadata": {
  "interpreter": {
   "hash": "916dbcbb3f70747c44a77c7bcd40155683ae19c65e1c03b4aa3499c5328201f1"
  },
  "kernelspec": {
   "display_name": "Python 3.8.10 64-bit",
   "language": "python",
   "name": "python3"
  },
  "language_info": {
   "codemirror_mode": {
    "name": "ipython",
    "version": 3
   },
   "file_extension": ".py",
   "mimetype": "text/x-python",
   "name": "python",
   "nbconvert_exporter": "python",
   "pygments_lexer": "ipython3",
   "version": "3.8.10"
  },
  "orig_nbformat": 4
 },
 "nbformat": 4,
 "nbformat_minor": 2
}
